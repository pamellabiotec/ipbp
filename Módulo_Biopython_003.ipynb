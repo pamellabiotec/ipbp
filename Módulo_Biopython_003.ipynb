{
 "cells": [
  {
   "cell_type": "markdown",
   "metadata": {},
   "source": [
    "# Curso Introdução à Programação para Bioinformática com Python\n",
    "\n",
    "\n",
    "## Módulo - Biopython\n",
    "\n",
    "\n",
    "### Visualização de dados\n",
    "\n",
    "Visualização de dados é uma importante área de estudo para Data Science\n",
    "Nesta seção abordaremos alguns conceitos importantes como criação de visualizações para bioinformática com Python."
   ]
  },
  {
   "cell_type": "markdown",
   "metadata": {},
   "source": [
    "### Estudo de caso: comparando sequências de RNA ribossomal entre humanos e bactéria\n",
    "\n",
    "![imagem.svg](https://se.wikipedia.org/wiki/Fiila:Dna-base-flipping.svg)\n",
    "Estrutura do DNA. Fonte: https://se.wikipedia.org/wiki/Fiila:Dna-base-flipping.svg\n",
    "\n",
    "Neste estudo de caso, faremos a comparação entre duas sequências de DNA: (1) **ser humano**; vs. (2) **bactéria**. \n",
    "\n",
    "> DNA é uma molécula presente em todos os seres vivos, que é responsável por armazenar as características hereditárias. Ela é composta por sequências de nucleotídeos, que podem de quatro tipos: adenina, timina, citosina ou guanina.\n",
    "\n",
    "\"Computacionalmente\" falando podemos representá-los através de 4 letras: A, T, C ou G.\n",
    "\n",
    "\n",
    "Neste estudo de caso, queremos avaliar se estruturas com funções parecidas (estamos usando sequências de RNA ribossomal) de organismos diferentes têm diferenças. Para isso vamos avaliar a quantidade de pares de nucleotídeos.\n",
    "\n",
    "**Dados utilizados**:\n",
    "\n",
    "- Human 18S rRNA gene, complete\n",
    "\n",
    "Fonte: https://www.ncbi.nlm.nih.gov/nuccore/M10098.1?report=fasta\n",
    "\n",
    "\n",
    "- Escherichia coli strain U 5/41 16S ribosomal RNA gene, partial sequence\n",
    "\n",
    "Fonte: https://www.ncbi.nlm.nih.gov/nuccore/NR_024570.1?report=fasta\n",
    "\n",
    "**Resultado final**\n",
    "Como resultado final, geraremos uma figura que compara os DNAs visualmente."
   ]
  },
  {
   "cell_type": "markdown",
   "metadata": {},
   "source": [
    "### Visualização de dados gerando html"
   ]
  },
  {
   "cell_type": "code",
   "execution_count": 1,
   "metadata": {},
   "outputs": [
    {
     "name": "stdout",
     "output_type": "stream",
     "text": [
      "{'AA': 105, 'AT': 64, 'AC': 86, 'AG': 111, 'TA': 64, 'TT': 57, 'TC': 60, 'TG': 108, 'CA': 83, 'CT': 75, 'CC': 74, 'CG': 97, 'GA': 113, 'GT': 93, 'GC': 109, 'GG': 147}\n"
     ]
    }
   ],
   "source": [
    "entrada = open(\"16s_bacteria.fasta\").read()\n",
    "saida = open(\"16s_bacteria.html\",\"w\")\n",
    "\n",
    "cont_b = {}\n",
    "\n",
    "#Laço para preencher o dicionário cont_b com os dinucleotídeos\n",
    "for i in ['A', 'T', 'C', 'G']:\n",
    "    for j in ['A', 'T', 'C', 'G']:\n",
    "        cont_b[i+j] = 0\n",
    "\n",
    "# Para formatar a entrada dos dados que veio do arquivo FASTA\n",
    "entrada = entrada.replace(\"\\n\",\"\")\n",
    "\n",
    "#Laço para contar a frequência dos dinucleotídeos\n",
    "for k in range(len(entrada)-1):\n",
    "    cont_b[entrada[k]+entrada[k+1]] += 1\n",
    "print(cont_b)\n",
    "\n",
    "# html\n",
    "\n",
    "saida.write(\"<div>\")\n",
    "\n",
    "i = 1\n",
    "for k in cont_b:\n",
    "    transparencia = cont_b[k]/max(cont_b.values())\n",
    "    saida.write(\"<div style='width:100px; border:1px solid #111; color:#fff; height:100px; float:left; background-color:rgba(0, 0, 0, \"+str(transparencia)+\"')>\"+k+\"</div>\")\n",
    "\n",
    "    if i%4 == 0:\n",
    "        saida.write(\"<div style='clear:both'></div>\")\n",
    "\n",
    "    i+=1\n",
    "\n",
    "saida.close()"
   ]
  },
  {
   "cell_type": "code",
   "execution_count": 2,
   "metadata": {},
   "outputs": [
    {
     "name": "stdout",
     "output_type": "stream",
     "text": [
      "{'AA': 116, 'AT': 95, 'AC': 97, 'AG': 113, 'TA': 85, 'TT': 113, 'TC': 109, 'TG': 111, 'CA': 87, 'CT': 105, 'CC': 184, 'CG': 170, 'GA': 134, 'GT': 105, 'GC': 155, 'GG': 184}\n"
     ]
    }
   ],
   "source": [
    "entrada = open(\"18s_humano.fasta\").read()\n",
    "saida = open(\"18s_humano.html\",\"w\")\n",
    "\n",
    "cont_h = {}\n",
    "\n",
    "#Laço para preencher o dicionário cont_h com os dinucleotídeos\n",
    "for i in ['A', 'T', 'C', 'G']:\n",
    "    for j in ['A', 'T', 'C', 'G']:\n",
    "        cont_h[i+j] = 0\n",
    "\n",
    "#Para formatar a entrada dos dados que veio do arquivo FASTA\n",
    "entrada = entrada.replace(\"\\n\",\"\")\n",
    "\n",
    "#Laço para contar a frequência dos dinucleotídeos\n",
    "for k in range(len(entrada)-1):\n",
    "    cont_h[entrada[k]+entrada[k+1]] += 1\n",
    "print(cont_h)\n",
    "\n",
    "# html\n",
    "saida.write(\"<div>\")\n",
    "\n",
    "i = 1\n",
    "for k in cont_h:\n",
    "    transparencia = cont_h[k]/max(cont_h.values())\n",
    "    saida.write(\"<div style='width:100px; border:1px solid #111; color:#fff; height:100px; float:left; background-color:rgba(0, 0, 0, \"+str(transparencia)+\"')>\"+k+\"</div>\")\n",
    "\n",
    "    if i%4 == 0:\n",
    "        saida.write(\"<div style='clear:both'></div>\")\n",
    "\n",
    "    i+=1\n",
    "\n",
    "saida.close()"
   ]
  },
  {
   "cell_type": "markdown",
   "metadata": {},
   "source": [
    "### Visualização de dados gerando gráfico Heatmap"
   ]
  },
  {
   "cell_type": "code",
   "execution_count": 3,
   "metadata": {},
   "outputs": [
    {
     "data": {
      "text/html": [
       "<div>\n",
       "<style scoped>\n",
       "    .dataframe tbody tr th:only-of-type {\n",
       "        vertical-align: middle;\n",
       "    }\n",
       "\n",
       "    .dataframe tbody tr th {\n",
       "        vertical-align: top;\n",
       "    }\n",
       "\n",
       "    .dataframe thead th {\n",
       "        text-align: right;\n",
       "    }\n",
       "</style>\n",
       "<table border=\"1\" class=\"dataframe\">\n",
       "  <thead>\n",
       "    <tr style=\"text-align: right;\">\n",
       "      <th></th>\n",
       "      <th>bactéria</th>\n",
       "      <th>humano</th>\n",
       "    </tr>\n",
       "  </thead>\n",
       "  <tbody>\n",
       "    <tr>\n",
       "      <th>AA</th>\n",
       "      <td>105</td>\n",
       "      <td>116</td>\n",
       "    </tr>\n",
       "    <tr>\n",
       "      <th>AT</th>\n",
       "      <td>64</td>\n",
       "      <td>95</td>\n",
       "    </tr>\n",
       "    <tr>\n",
       "      <th>AC</th>\n",
       "      <td>86</td>\n",
       "      <td>97</td>\n",
       "    </tr>\n",
       "    <tr>\n",
       "      <th>AG</th>\n",
       "      <td>111</td>\n",
       "      <td>113</td>\n",
       "    </tr>\n",
       "    <tr>\n",
       "      <th>TA</th>\n",
       "      <td>64</td>\n",
       "      <td>85</td>\n",
       "    </tr>\n",
       "    <tr>\n",
       "      <th>TT</th>\n",
       "      <td>57</td>\n",
       "      <td>113</td>\n",
       "    </tr>\n",
       "    <tr>\n",
       "      <th>TC</th>\n",
       "      <td>60</td>\n",
       "      <td>109</td>\n",
       "    </tr>\n",
       "    <tr>\n",
       "      <th>TG</th>\n",
       "      <td>108</td>\n",
       "      <td>111</td>\n",
       "    </tr>\n",
       "    <tr>\n",
       "      <th>CA</th>\n",
       "      <td>83</td>\n",
       "      <td>87</td>\n",
       "    </tr>\n",
       "    <tr>\n",
       "      <th>CT</th>\n",
       "      <td>75</td>\n",
       "      <td>105</td>\n",
       "    </tr>\n",
       "    <tr>\n",
       "      <th>CC</th>\n",
       "      <td>74</td>\n",
       "      <td>184</td>\n",
       "    </tr>\n",
       "    <tr>\n",
       "      <th>CG</th>\n",
       "      <td>97</td>\n",
       "      <td>170</td>\n",
       "    </tr>\n",
       "    <tr>\n",
       "      <th>GA</th>\n",
       "      <td>113</td>\n",
       "      <td>134</td>\n",
       "    </tr>\n",
       "    <tr>\n",
       "      <th>GT</th>\n",
       "      <td>93</td>\n",
       "      <td>105</td>\n",
       "    </tr>\n",
       "    <tr>\n",
       "      <th>GC</th>\n",
       "      <td>109</td>\n",
       "      <td>155</td>\n",
       "    </tr>\n",
       "    <tr>\n",
       "      <th>GG</th>\n",
       "      <td>147</td>\n",
       "      <td>184</td>\n",
       "    </tr>\n",
       "  </tbody>\n",
       "</table>\n",
       "</div>"
      ],
      "text/plain": [
       "    bactéria  humano\n",
       "AA       105     116\n",
       "AT        64      95\n",
       "AC        86      97\n",
       "AG       111     113\n",
       "TA        64      85\n",
       "TT        57     113\n",
       "TC        60     109\n",
       "TG       108     111\n",
       "CA        83      87\n",
       "CT        75     105\n",
       "CC        74     184\n",
       "CG        97     170\n",
       "GA       113     134\n",
       "GT        93     105\n",
       "GC       109     155\n",
       "GG       147     184"
      ]
     },
     "execution_count": 3,
     "metadata": {},
     "output_type": "execute_result"
    }
   ],
   "source": [
    "import pandas as pd\n",
    "obj = {'bactéria': cont_b, 'humano': cont_h} # Utilizando as variáveis cont_b e cont_h dos scripts anteriores\n",
    "df = pd.DataFrame(data=obj)\n",
    "df"
   ]
  },
  {
   "cell_type": "code",
   "execution_count": 4,
   "metadata": {},
   "outputs": [
    {
     "name": "stdout",
     "output_type": "stream",
     "text": [
      "Setup ok!\n"
     ]
    }
   ],
   "source": [
    "import matplotlib.pyplot as plt\n",
    "import seaborn as sns\n",
    "%matplotlib inline\n",
    "sns.set(style=\"darkgrid\")\n",
    "print(\"Setup ok!\")"
   ]
  },
  {
   "cell_type": "code",
   "execution_count": 8,
   "metadata": {},
   "outputs": [
    {
     "data": {
      "text/plain": [
       "<matplotlib.axes._subplots.AxesSubplot at 0x18458f32988>"
      ]
     },
     "execution_count": 8,
     "metadata": {},
     "output_type": "execute_result"
    },
    {
     "data": {
      "image/png": "[encoded data removed]",
      "text/plain": [
       "<Figure size 1152x576 with 2 Axes>"
      ]
     },
     "metadata": {},
     "output_type": "display_data"
    }
   ],
   "source": [
    "# Comparação de sequências de RNA ribossomal entre humanos e bactéria\n",
    "plt.subplots(figsize=(16, 8))\n",
    "sns.heatmap(df, annot=True, fmt=\"d\", linewidths=.10)"
   ]
  }
 ],
 "metadata": {
  "kernelspec": {
   "display_name": "Python 3",
   "language": "python",
   "name": "python3"
  },
  "language_info": {
   "codemirror_mode": {
    "name": "ipython",
    "version": 3
   },
   "file_extension": ".py",
   "mimetype": "text/x-python",
   "name": "python",
   "nbconvert_exporter": "python",
   "pygments_lexer": "ipython3",
   "version": "3.7.6"
  }
 },
 "nbformat": 4,
 "nbformat_minor": 4
}
